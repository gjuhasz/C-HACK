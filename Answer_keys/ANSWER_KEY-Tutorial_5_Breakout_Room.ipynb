{
 "cells": [
  {
   "cell_type": "markdown",
   "metadata": {},
   "source": [
    "##### Copyright 2021 The C-HACKMASTERS."
   ]
  },
  {
   "cell_type": "code",
   "execution_count": 1,
   "metadata": {},
   "outputs": [],
   "source": [
    "# Licensed under the Apache License, Version 2.0 (the \"License\");\n",
    "# you may not use this file except in compliance with the License.\n",
    "# You may obtain a copy of the License at\n",
    "#\n",
    "#     http://www.apache.org/licenses/LICENSE-2.0\n",
    "#\n",
    "# Unless required by applicable law or agreed to in writing, software\n",
    "# distributed under the License is distributed on an \"AS IS\" BASIS,\n",
    "# WITHOUT WARRANTIES OR CONDITIONS OF ANY KIND, either express or implied.\n",
    "# See the License for the specific language governing permissions and\n",
    "# limitations under the License."
   ]
  },
  {
   "cell_type": "markdown",
   "metadata": {
    "id": "MnTbTRLrvWqL"
   },
   "source": [
    "## Answer Key Tutorial 5 Breakout room"
   ]
  },
  {
   "cell_type": "markdown",
   "metadata": {
    "id": "bGbYM8N7vu9e"
   },
   "source": [
    "Let's load our libraries"
   ]
  },
  {
   "cell_type": "code",
   "execution_count": 1,
   "metadata": {
    "id": "bPs7BsBevrrb"
   },
   "outputs": [],
   "source": [
    "# Pandas library for the pandas dataframes\n",
    "import pandas as pd    \n",
    "\n",
    "# Scikit-Learn library for the regression models\n",
    "import sklearn         \n",
    "from sklearn import linear_model, datasets\n",
    "from sklearn.model_selection import train_test_split\n",
    "from sklearn.metrics import mean_squared_error, r2_score\n",
    "\n",
    "# number libraries\n",
    "import numpy as np\n",
    "\n",
    "# Plotting libraries\n",
    "import seaborn as sns\n",
    "import matplotlib \n",
    "from matplotlib import pyplot as plt\n",
    "\n",
    "matplotlib.rcParams.update({'font.size': 20})\n",
    "\n",
    "%load_ext autoreload\n",
    "%autoreload 2"
   ]
  },
  {
   "cell_type": "markdown",
   "metadata": {
    "id": "dMBGmVj0vJCB"
   },
   "source": [
    "### Problem 1) Number and choice of input features / Bias and variance\n",
    "\n",
    "Load the Boston dataset and evaluate how the linear regression predictions changes as you change the **number and choice of input features**. The total number of columns in X  is 13 and each column represent a specific input feature. "
   ]
  },
  {
   "cell_type": "markdown",
   "metadata": {
    "id": "KJ02070MwbHX"
   },
   "source": [
    "#### 1.1 Look at a few features"
   ]
  },
  {
   "cell_type": "code",
   "execution_count": 2,
   "metadata": {
    "id": "CgBTtmlzvWRP"
   },
   "outputs": [],
   "source": [
    "# Load the boston dataset and separate it in input features X and output variable y\n",
    "X, y = datasets.load_boston(return_X_y=True) \n",
    "# Make a second split of X and y to get a dataset to train with and a set to predict \n",
    "X_train, X_test, y_train, y_test = train_test_split(X, y, test_size=0.20, random_state=9) "
   ]
  },
  {
   "cell_type": "markdown",
   "metadata": {
    "id": "fT8wEhz-wXih"
   },
   "source": [
    " From the documentation listed [here](https://scikit-learn.org/stable/datasets/index.html#boston-dataset) we know that the 13 input feature variables in X are\n",
    "\n",
    "\n",
    "        CRIM per capita crime rate by town\n",
    "\n",
    "        ZN proportion of residential land zoned for lots over 25,000 sq.ft.\n",
    "\n",
    "        INDUS proportion of non-retail business acres per town\n",
    "\n",
    "        CHAS Charles River dummy variable (= 1 if tract bounds river; 0 otherwise)\n",
    "\n",
    "        NOX nitric oxides concentration (parts per 10 million)\n",
    "\n",
    "        RM average number of rooms per dwelling\n",
    "\n",
    "        AGE proportion of owner-occupied units built prior to 1940\n",
    "\n",
    "        DIS weighted distances to five Boston employment centres\n",
    "\n",
    "        RAD index of accessibility to radial highways\n",
    "\n",
    "        TAX full-value property-tax rate per $10,000\n",
    "\n",
    "        PTRATIO pupil-teacher ratio by town\n",
    "\n",
    "        B 1000(Bk - 0.63)^2 where Bk is the proportion of blacks by town\n",
    "\n",
    "        LSTAT % lower status of the population\n",
    "\n",
    "And for y\n",
    "\n",
    "        MEDV Median value of owner-occupied homes in $1000’s\n",
    "\n"
   ]
  },
  {
   "cell_type": "markdown",
   "metadata": {
    "id": "enBi2dcMwuyU"
   },
   "source": [
    "Let's choose 4 different sets of input features from the overall set and look at how that changes the error in output. Specifically we will consider\n",
    "\n",
    "\n",
    "* DIS ( 8th input feature )\n",
    "* AGE ( 7th input feature )\n",
    "* DIS and AGE ( 8th and 7th input features )\n",
    "* DIS and RM ( 8th and 6th input features )\n",
    "\n",
    "We need to extract the 4 training datasets from our overall <code>X_train</code> dataset and similarly the corresponding testing datasets.\n"
   ]
  },
  {
   "cell_type": "code",
   "execution_count": 3,
   "metadata": {
    "id": "bopFePmEvmu6"
   },
   "outputs": [],
   "source": [
    "## Define the 4 training datasets\n",
    "# DIS feature (feature 8), reshape ensures that the array is the correct 2d shape\n",
    "X_train_DIS = X_train[:,7].reshape(-1,1)\n",
    "# AGE feature (feature 7)\n",
    "X_train_AGE = X_train[:,6].reshape(-1,1)\n",
    "# DIS and AGE features together - notice list indices [6,7] to select two columns\n",
    "X_train_DIS_AGE = X_train[:,[6,7]]\n",
    "# DIS and RM features together \n",
    "X_train_DIS_RM = X_train[:,[6,8]]\n",
    "\n",
    "## Define the corresponding testing datasets\n",
    "X_test_DIS = X_test[:,7].reshape(-1,1)\n",
    "X_test_AGE = X_test[:,6].reshape(-1,1)\n",
    "X_test_DIS_AGE = X_test[:,[6,7]]\n",
    "X_test_DIS_RM = X_test[:,[6,8]]"
   ]
  },
  {
   "cell_type": "markdown",
   "metadata": {
    "id": "EflIzIH7ou09"
   },
   "source": [
    "Let's look at the first few elements of each"
   ]
  },
  {
   "cell_type": "code",
   "execution_count": 4,
   "metadata": {
    "colab": {
     "base_uri": "https://localhost:8080/"
    },
    "id": "vLIicBxloyGB",
    "outputId": "24069607-bbf9-407f-d0fe-4ac21c00eab1"
   },
   "outputs": [
    {
     "name": "stdout",
     "output_type": "stream",
     "text": [
      "DIS train data:\n",
      " [[2.5979]\n",
      " [2.0869]\n",
      " [3.4952]\n",
      " [2.8617]]\n",
      "AGE train data:\n",
      " [[62.2]\n",
      " [92.9]\n",
      " [62.5]\n",
      " [88.5]]\n",
      "DIS AGE train data:\n",
      " [[62.2     2.5979]\n",
      " [92.9     2.0869]\n",
      " [62.5     3.4952]\n",
      " [88.5     2.8617]]\n",
      "DIS RM train data:\n",
      " [[62.2  3. ]\n",
      " [92.9  2. ]\n",
      " [62.5  2. ]\n",
      " [88.5  8. ]]\n"
     ]
    }
   ],
   "source": [
    "print('DIS train data:\\n', X_train_DIS[0:4])\n",
    "print('AGE train data:\\n', X_train_AGE[0:4])\n",
    "print('DIS AGE train data:\\n', X_train_DIS_AGE[0:4])\n",
    "print('DIS RM train data:\\n', X_train_DIS_RM[0:4])"
   ]
  },
  {
   "cell_type": "markdown",
   "metadata": {
    "id": "cm7ljsJQopiu"
   },
   "source": [
    "Now we combine each of these sets into a list to have one main variable - the list which contains each dataset"
   ]
  },
  {
   "cell_type": "code",
   "execution_count": 5,
   "metadata": {
    "id": "CDXuwluaooA0"
   },
   "outputs": [],
   "source": [
    "## Place all of these in a list to be iteratred over\n",
    "X_train_list = [X_train_DIS, X_train_AGE, X_train_DIS_AGE, X_train_DIS_RM]\n",
    "X_test_list = [X_test_DIS, X_test_AGE, X_test_DIS_AGE, X_test_DIS_RM]"
   ]
  },
  {
   "cell_type": "markdown",
   "metadata": {
    "id": "Y2k088fOpWHY"
   },
   "source": [
    "Let's see what the list looks like by iterating over each of the variable values we assigned to the list in the previous cell"
   ]
  },
  {
   "cell_type": "code",
   "execution_count": 6,
   "metadata": {
    "colab": {
     "base_uri": "https://localhost:8080/"
    },
    "id": "hEtA1lbApVKs",
    "outputId": "7cd37e75-dd2a-4886-d40e-6f7e901888a4"
   },
   "outputs": [
    {
     "name": "stdout",
     "output_type": "stream",
     "text": [
      "[[2.5979]\n",
      " [2.0869]\n",
      " [3.4952]\n",
      " [2.8617]\n",
      " [2.4298]]\n",
      "[[62.2]\n",
      " [92.9]\n",
      " [62.5]\n",
      " [88.5]\n",
      " [95.4]]\n",
      "[[62.2     2.5979]\n",
      " [92.9     2.0869]\n",
      " [62.5     3.4952]\n",
      " [88.5     2.8617]\n",
      " [95.4     2.4298]]\n",
      "[[62.2  3. ]\n",
      " [92.9  2. ]\n",
      " [62.5  2. ]\n",
      " [88.5  8. ]\n",
      " [95.4 24. ]]\n"
     ]
    }
   ],
   "source": [
    "for X_train_set in X_train_list:\n",
    "  print(X_train_set[0:5])"
   ]
  },
  {
   "cell_type": "markdown",
   "metadata": {
    "id": "yj6xYcbZoXda"
   },
   "source": [
    "OK, it all looks good. Now let's train and predict for each training and testing set in the list"
   ]
  },
  {
   "cell_type": "code",
   "execution_count": 7,
   "metadata": {
    "id": "2TnaaywYoV79"
   },
   "outputs": [],
   "source": [
    "# We create an empty list to contain the values of y predicted for each model trained on one the lists training sets\n",
    "y_predicted = []\n",
    "# Similarly we will store the prediction errors in a list which we initialize here\n",
    "predict_errors = []\n",
    "# We also decide to store the trained models in a list ( you can think of your list as a container of variables! )\n",
    "models = []\n",
    "\n",
    "# We iterate through each of 4 sets of features (Note that we could have also used a function called enumerate() )\n",
    "for i in range(0,4):\n",
    "\n",
    "  # Create a linear regression model\n",
    "  regr_tmp = linear_model.LinearRegression()\n",
    "\n",
    "  # Train the model by using the i-th training dataset of the list, \n",
    "  # if i=0 then the training set is based on DIS, if i=1 its the AGE training set and so on...\n",
    "  regr_tmp.fit(X_train_list[i], y_train)\n",
    "  # Make predictions on test set\n",
    "  y_predicted_tmp = regr_tmp.predict(X_test_list[i])\n",
    "\n",
    "  # Store the values of y predicted by the model trained on the i-th training set - y_predicted_tmp in our list\n",
    "  y_predicted.append(y_predicted_tmp)\n",
    "  # Store the values of the errore computed as MSE in the list\n",
    "  predict_errors.append(mean_squared_error(y_test, y_predicted_tmp))\n",
    "  # Store the models we obtained by fitting on the training set in our models list\n",
    "  models.append(regr_tmp)\n",
    "\n",
    "  # Note that all variable listed as name_tmp change at each iteration of the for loop!"
   ]
  },
  {
   "cell_type": "code",
   "execution_count": 8,
   "metadata": {
    "colab": {
     "base_uri": "https://localhost:8080/",
     "height": 314
    },
    "id": "CuJHR5ukabLw",
    "outputId": "2d429b71-650b-4f00-c2e9-274a64dc6754"
   },
   "outputs": [
    {
     "name": "stdout",
     "output_type": "stream",
     "text": [
      "The errors for the 4 feature sets:\n",
      " [92.40411193691833, 80.98678577574518, 80.6564904096789, 76.32217428994537]\n"
     ]
    },
    {
     "data": {
      "image/png": "[encoded data removed]",
      "text/plain": [
       "<Figure size 432x288 with 1 Axes>"
      ]
     },
     "metadata": {
      "needs_background": "light",
      "tags": []
     },
     "output_type": "display_data"
    }
   ],
   "source": [
    "## Now lets look at the values of the error in a plot and also print them out\n",
    "print('The errors for the 4 feature sets:\\n', predict_errors)\n",
    "\n",
    "plt.plot(0,predict_errors[0],'o',markersize=15,color='b')\n",
    "plt.plot(1,predict_errors[1],'s',markersize=15,color='darkorange')\n",
    "plt.plot(2,predict_errors[2],'>',markersize=15,color='g')\n",
    "plt.plot(3,predict_errors[3],'^',markersize=15,color='r')\n",
    "plt.xlabel('model')\n",
    "plt.ylabel('MSE')\n",
    "plt.legend(['DIS','AGE','DIS AGE','DIS RM'])\n",
    "plt.show()"
   ]
  },
  {
   "cell_type": "markdown",
   "metadata": {
    "id": "CHkCG9_-3dsJ"
   },
   "source": [
    "We see that AGE on its own is better than DIS as an input feature (remember we want low error). When they are combined we do not gain a lot over AGE. This could also have been understood from the fact that those two variables are strongly correlated (see the heat map plot in section 5.4.3 of the main lecture). Therefore the model does not gain when we use both. On the other hand when we combine DIS with RM we see a lower MSE. This comes from the fact that DIS and RM are less strongly correlated and therefore contain different information which the model can learn from."
   ]
  },
  {
   "cell_type": "markdown",
   "metadata": {
    "id": "AQXJb8ZMtkLS"
   },
   "source": [
    "We could also look at the scatter plots here"
   ]
  },
  {
   "cell_type": "code",
   "execution_count": 9,
   "metadata": {
    "colab": {
     "base_uri": "https://localhost:8080/",
     "height": 1000
    },
    "id": "HmTlJs6Itf6F",
    "outputId": "d262b34b-1a68-4645-aa0a-1cef8480162c"
   },
   "outputs": [
    {
     "data": {
      "image/png": "[encoded data removed]",
      "text/plain": [
       "<Figure size 360x360 with 1 Axes>"
      ]
     },
     "metadata": {
      "needs_background": "light",
      "tags": []
     },
     "output_type": "display_data"
    },
    {
     "data": {
      "image/png": "[encoded data removed]",
      "text/plain": [
       "<Figure size 360x360 with 1 Axes>"
      ]
     },
     "metadata": {
      "needs_background": "light",
      "tags": []
     },
     "output_type": "display_data"
    },
    {
     "data": {
      "image/png": "[encoded data removed]",
      "text/plain": [
       "<Figure size 360x360 with 1 Axes>"
      ]
     },
     "metadata": {
      "needs_background": "light",
      "tags": []
     },
     "output_type": "display_data"
    },
    {
     "data": {
      "image/png": "[encoded data removed]",
      "text/plain": [
       "<Figure size 360x360 with 1 Axes>"
      ]
     },
     "metadata": {
      "needs_background": "light",
      "tags": []
     },
     "output_type": "display_data"
    }
   ],
   "source": [
    "colors = ['b','darkorange','g','r']\n",
    "labels = ['DIS', 'AGE', 'DIS AGE', 'DIS RM']\n",
    "for i in range(0,4):\n",
    "  plt.figure(figsize=(5,5))\n",
    "  plt.scatter(y_test, y_predicted[i], color=colors[i])\n",
    "  plt.legend([labels[i]])\n",
    "  plt.xlabel('y exact')\n",
    "  plt.ylabel('y predicted')\n",
    "  plt.xlim([5,55])\n",
    "  plt.ylim([5,55])"
   ]
  },
  {
   "cell_type": "markdown",
   "metadata": {
    "id": "GcZDUTfFvAZg"
   },
   "source": [
    "We can see from both the error values and the scatter plot that each of these models is making a significant amount of error. If the fit was good we would expect to see all points along the diagonal or close to it. But what we see is that its not a question of how many input features but more about which input features!"
   ]
  },
  {
   "cell_type": "markdown",
   "metadata": {
    "id": "qzQx8geRvWcQ"
   },
   "source": [
    "If we had used all input features we would have found a much better fit (does this contradict our idea that we need more features?)"
   ]
  },
  {
   "cell_type": "code",
   "execution_count": 11,
   "metadata": {
    "colab": {
     "base_uri": "https://localhost:8080/",
     "height": 351
    },
    "id": "LdcAiApQvjbO",
    "outputId": "30fa1fde-3e1f-4de9-fe3d-f4a80c406e62"
   },
   "outputs": [
    {
     "name": "stdout",
     "output_type": "stream",
     "text": [
      "MSE all features =  23.676620280791226\n"
     ]
    },
    {
     "data": {
      "image/png": "[encoded data removed]",
      "text/plain": [
       "<Figure size 360x360 with 1 Axes>"
      ]
     },
     "metadata": {
      "needs_background": "light",
      "tags": []
     },
     "output_type": "display_data"
    }
   ],
   "source": [
    "regr = linear_model.LinearRegression()\n",
    "regr.fit(X_train, y_train)\n",
    "\n",
    "y_predicted = regr.predict(X_test)\n",
    "mse = mean_squared_error(y_test, y_predicted)\n",
    "\n",
    "plt.figure(figsize=(5,5))\n",
    "plt.scatter(y_test, y_predicted, color='royalblue')\n",
    "plt.legend([labels[i]])\n",
    "plt.xlabel('y exact')\n",
    "plt.ylabel('y predicted')\n",
    "plt.xlim([5,55])\n",
    "plt.ylim([5,55])\n",
    "\n",
    "print('MSE all features = ', mse)"
   ]
  },
  {
   "cell_type": "markdown",
   "metadata": {
    "id": "fOEBozWAwRLK"
   },
   "source": [
    "Now we drop the 'INDUS' variable - the third of the input features"
   ]
  },
  {
   "cell_type": "code",
   "execution_count": 12,
   "metadata": {
    "colab": {
     "base_uri": "https://localhost:8080/",
     "height": 351
    },
    "id": "6a2FSE5ewQnH",
    "outputId": "7081ab52-076f-4416-84ee-c1d190854230"
   },
   "outputs": [
    {
     "name": "stdout",
     "output_type": "stream",
     "text": [
      "MSE all features minus the INDUS feature =  23.676620280791226\n"
     ]
    },
    {
     "data": {
      "image/png": "[encoded data removed]",
      "text/plain": [
       "<Figure size 360x360 with 1 Axes>"
      ]
     },
     "metadata": {
      "needs_background": "light",
      "tags": []
     },
     "output_type": "display_data"
    }
   ],
   "source": [
    "regr = linear_model.LinearRegression()\n",
    "X_train_no_INDUS = X_train[:,[0,1,3,4,5,6,7,8,9,10,11,12]]\n",
    "X_test_no_INDUS = X_test[:,[0,1,3,4,5,6,7,8,9,10,11,12]]\n",
    "regr.fit(X_train_no_INDUS, y_train)\n",
    "\n",
    "y_predicted = regr.predict(X_test_no_INDUS)\n",
    "mse_no_INDUS = mean_squared_error(y_test, y_predicted)\n",
    "\n",
    "plt.figure(figsize=(5,5))\n",
    "plt.scatter(y_test, y_predicted, color='royalblue')\n",
    "plt.legend([labels[i]])\n",
    "plt.xlabel('y exact')\n",
    "plt.ylabel('y predicted')\n",
    "plt.xlim([5,55])\n",
    "plt.ylim([5,55])\n",
    "\n",
    "print('MSE all features minus the INDUS feature = ', mse)"
   ]
  },
  {
   "cell_type": "code",
   "execution_count": 14,
   "metadata": {
    "colab": {
     "base_uri": "https://localhost:8080/"
    },
    "id": "K74hqLXEwOwD",
    "outputId": "781405ab-6ec5-44a9-aeaa-0a65c796d0dd"
   },
   "outputs": [
    {
     "name": "stdout",
     "output_type": "stream",
     "text": [
      "All input features MSE: 23.676620280791226 \n",
      "All features without INDUS - MSE: 23.652518792530763\n"
     ]
    }
   ],
   "source": [
    "print('All input features MSE:', mse,'\\nAll features without INDUS - MSE:', mse_no_INDUS)"
   ]
  },
  {
   "cell_type": "markdown",
   "metadata": {
    "id": "6SZoMBrRyMmD"
   },
   "source": [
    "We see that by removing the INDUS feature the model does better - we find a smaller MSE! So at the end of the day it really is a question of how much information the model can extract from the input features and it requires us to test many options!"
   ]
  },
  {
   "cell_type": "markdown",
   "metadata": {
    "id": "IRBc58ljX9WH"
   },
   "source": [
    "#### 1.3 Bias and Variance"
   ]
  },
  {
   "cell_type": "markdown",
   "metadata": {
    "id": "cEDyh_YC3i_-"
   },
   "source": [
    "To estimate the variance of our model, we can train it on different subests of the training data, and see how these models perform relative to the average performance. As a rough estimate, let's test creating 10 training datasets by selecting a third of the data at random and a different random subset every time."
   ]
  },
  {
   "cell_type": "code",
   "execution_count": 15,
   "metadata": {
    "id": "iSyVyqu4dfRQ"
   },
   "outputs": [],
   "source": [
    "## Let's extract 10 random samples of the training data, each containing 1/3 of the total training data\n",
    "\n",
    "# Get number of data points in X_train\n",
    "N_points = len(X_train)\n",
    "\n",
    "# Get number of data points we want in each of the 10 training sets - note that this number must be an integer not a float - that's why we use int!\n",
    "N_points_third = int(N_points/3)\n",
    "\n",
    "X_train_list = []\n",
    "y_predicted_list = []\n",
    "\n",
    "# Now we extract the data 10 times\n",
    "N_ite = 10\n",
    "y_predicted_ave = np.zeros(len(y_test))\n",
    "\n",
    "for i in range(0, N_ite):\n",
    "\n",
    "  # Select N_points_third integers which will correspond to the indices of rows in the training dataset at random \n",
    "  # We store them in a list called ind\n",
    "  ind = np.random.randint(0, N_points, N_points_third)\n",
    "\n",
    "  # Now we use them to define the training set and store each training set in a list of training sets\n",
    "  X_train_tmp = X_train[ind]\n",
    "  X_train_list.append(X_train_list)\n",
    "\n",
    "  # We fit our model to each te\n",
    "  regr_tmp = linear_model.LinearRegression()\n",
    "  regr_tmp.fit(X_train_tmp, y_train[ind])\n",
    "\n",
    "  y_predicted_tmp = np.array(regr_tmp.predict(X_test))\n",
    "  mse_tmp = mean_squared_error(y_test, y_predicted_tmp)\n",
    "\n",
    "  y_predicted_ave = y_predicted_ave + y_predicted_tmp\n",
    "  y_predicted_list.append( y_predicted_tmp )\n"
   ]
  },
  {
   "cell_type": "code",
   "execution_count": 16,
   "metadata": {
    "colab": {
     "base_uri": "https://localhost:8080/"
    },
    "id": "0ijbdDv__hpt",
    "outputId": "9b659bd6-a3ae-403d-a8cf-9951754ef94d"
   },
   "outputs": [
    {
     "name": "stdout",
     "output_type": "stream",
     "text": [
      "[0.041418571426570176, 0.038118490806137544, 0.04884886003223289, 0.035143753909467904, 0.041105462865139324, 0.04264627479879751, 0.03481756642439187, 0.03989235109151351, 0.049705472659128225, 0.052620587643964135]\n"
     ]
    }
   ],
   "source": [
    "# Let's compute the variance\n",
    "y_predicted_ave /= N_ite\n",
    "variance = []\n",
    "for i in range(0, N_ite):\n",
    "    variance.append(np.sqrt(np.linalg.norm(y_predicted_list[i] - y_predicted_ave))/len(y_test))\n",
    "\n",
    "print(variance)"
   ]
  },
  {
   "cell_type": "markdown",
   "metadata": {
    "id": "mPuK_37g7T7Z"
   },
   "source": [
    "In order to determine bias, we would need the the exact model for the system. In most cases, such as this, we do not know the exact model. Because of this, often the best we can do is estimate it with respect to the variance and the error. See this document for a tool to help with this, which wraps up the work here to estimate variance along with some other statistical tools. https://machinelearningmastery.com/calculate-the-bias-variance-trade-off/"
   ]
  },
  {
   "cell_type": "markdown",
   "metadata": {
    "id": "idO4Gvv4dk4T"
   },
   "source": [
    "### Problem 2) Beyond linear regression\n",
    "Compare a LASSO model to the model that you produced. What is the LASSO model doing compared to the work you've done on these problems? If you have time, explore some other regression models (maybe PLS, or Guassian Processing models?) What advantages and disadvantages do they have?\n"
   ]
  },
  {
   "cell_type": "markdown",
   "metadata": {
    "id": "2S2SqC9s_TgR"
   },
   "source": [
    "### 2.1 LASSO model\n",
    "\n",
    "scikit learn has a LASSO model ready coded just like the basic linear regression."
   ]
  },
  {
   "cell_type": "code",
   "execution_count": 17,
   "metadata": {
    "colab": {
     "base_uri": "https://localhost:8080/"
    },
    "id": "oKpJdUQW_R37",
    "outputId": "02b9649a-637d-41d9-ed84-9c5044040140"
   },
   "outputs": [
    {
     "name": "stdout",
     "output_type": "stream",
     "text": [
      "The lasso model has an MSE of 32.39200970946139\n"
     ]
    }
   ],
   "source": [
    "## Train a lasso model on the whole training dataset\n",
    "#. load the model\n",
    "LASSO = linear_model.Lasso()\n",
    "\n",
    "#. train it on the training data\n",
    "LASSO.fit(X_train, y_train)\n",
    "\n",
    "#. evaluate the performance\n",
    "y_predict = LASSO.predict(X_test)\n",
    "error = mean_squared_error(y_test, y_predict)\n",
    "\n",
    "#. report it\n",
    "print('The lasso model has an MSE of {}'.format(error))"
   ]
  },
  {
   "cell_type": "markdown",
   "metadata": {
    "id": "uQCukEI6AuIo"
   },
   "source": [
    "With almost no effort the LASSO model did almost as well as our optimum after a good amount of work trying to figure out the best features! It was able to achieve this because the model does a bit of work to determine the best features for us. It does this using L1 regularization, which means that along with the raw prediction error, the training is penalizing features that are very impactful to the regression model. This means that only truly impactful features (ones with enough correlation to overcome that penalty) are selected.\n",
    "\n",
    "We can even see which features it selected!"
   ]
  },
  {
   "cell_type": "code",
   "execution_count": 18,
   "metadata": {
    "colab": {
     "base_uri": "https://localhost:8080/"
    },
    "id": "H18ziSFQ_9GJ",
    "outputId": "163f77c9-a84f-4ffd-ff58-a285c3a18c7b"
   },
   "outputs": [
    {
     "data": {
      "text/plain": [
       "array([ True,  True, False, False, False,  True,  True,  True,  True,\n",
       "        True,  True,  True,  True])"
      ]
     },
     "execution_count": 18,
     "metadata": {
      "tags": []
     },
     "output_type": "execute_result"
    }
   ],
   "source": [
    "## which coeficients remain in the model\n",
    "LASSO.coef_ != 0"
   ]
  },
  {
   "cell_type": "markdown",
   "metadata": {
    "id": "IrgMbGZiBq7S"
   },
   "source": [
    "We can actually see that features 3, 4, and 5 (INDUS, CHAS, NOX) were eliminated. CHAS is actually a dummy variable without impact on the y variable, so the LASSO worked!\n",
    "\n",
    "We can actually tune the penalty applied as well through the alpha input."
   ]
  },
  {
   "cell_type": "code",
   "execution_count": 19,
   "metadata": {
    "colab": {
     "base_uri": "https://localhost:8080/"
    },
    "id": "85m77viUBeF1",
    "outputId": "d63af4a2-97bc-4605-ed84-16f136cb07be"
   },
   "outputs": [
    {
     "name": "stdout",
     "output_type": "stream",
     "text": [
      "The lasso model has an MSE of 26.882036525758583\n"
     ]
    }
   ],
   "source": [
    "## Train a lasso model on the whole training dataset\n",
    "#. load the model\n",
    "LASSO = linear_model.Lasso(alpha=0.1)\n",
    "\n",
    "#. train it on the training data\n",
    "LASSO.fit(X_train, y_train)\n",
    "\n",
    "#. evaluate the performance\n",
    "y_predict = LASSO.predict(X_test)\n",
    "error = mean_squared_error(y_test, y_predict)\n",
    "\n",
    "#. report it\n",
    "print('The lasso model has an MSE of {}'.format(error))"
   ]
  },
  {
   "cell_type": "markdown",
   "metadata": {
    "id": "90b--h4sCG8P"
   },
   "source": [
    "You can see the LASSO model is now performing significantly better than the basic linear model we put a bunch of effort into."
   ]
  },
  {
   "cell_type": "markdown",
   "metadata": {
    "id": "aeAKuNLQCSl5"
   },
   "source": [
    "#### 2.2 PLS model\n",
    "Let's quickly see how an out of the box PLS model performs"
   ]
  },
  {
   "cell_type": "code",
   "execution_count": 20,
   "metadata": {
    "id": "_c5Vp8m_CnP9"
   },
   "outputs": [],
   "source": [
    "from sklearn.cross_decomposition import PLSRegression"
   ]
  },
  {
   "cell_type": "code",
   "execution_count": 21,
   "metadata": {
    "colab": {
     "base_uri": "https://localhost:8080/"
    },
    "id": "3cfq9nYYCB6H",
    "outputId": "40337d62-536f-4bd7-f6ce-16ab3eac9c51"
   },
   "outputs": [
    {
     "name": "stdout",
     "output_type": "stream",
     "text": [
      "The PLS model has an MSE of 27.765626977659814\n"
     ]
    }
   ],
   "source": [
    "## Train a PLS model on the whole training dataset\n",
    "#. load the model\n",
    "PLS = PLSRegression()\n",
    "\n",
    "#. train it on the training data\n",
    "PLS.fit(X_train, y_train)\n",
    "\n",
    "#. evaluate the performance\n",
    "y_predict = PLS.predict(X_test)\n",
    "error = mean_squared_error(y_test, y_predict)\n",
    "\n",
    "#. report it\n",
    "print('The PLS model has an MSE of {}'.format(error))"
   ]
  },
  {
   "cell_type": "markdown",
   "metadata": {
    "id": "S7EJH9AACys0"
   },
   "source": [
    "It did super well with no tuning! It turns out that PLS is fairly suited for the Boston dataset, but it has some disadvantages. PLS can sometimes have trouble identifying true correlations as it tries to minimize chance correlations. It also is very sensitive to the descriptor scaling, so if in the future your input data is being collected on a different scale or range, it will fail."
   ]
  },
  {
   "cell_type": "code",
   "execution_count": null,
   "metadata": {
    "id": "gISw2DmECurU"
   },
   "outputs": [],
   "source": []
  }
 ],
 "metadata": {
  "colab": {
   "collapsed_sections": [],
   "name": "ANSWER KEY Tutorial 5: Breakout Room.ipynb",
   "provenance": []
  },
  "kernelspec": {
   "display_name": "Python (tunnel)",
   "language": "python",
   "name": "python3"
  },
  "language_info": {
   "codemirror_mode": {
    "name": "ipython",
    "version": 3
   },
   "file_extension": ".py",
   "mimetype": "text/x-python",
   "name": "python",
   "nbconvert_exporter": "python",
   "pygments_lexer": "ipython3",
   "version": "3.7.7"
  }
 },
 "nbformat": 4,
 "nbformat_minor": 1
}
